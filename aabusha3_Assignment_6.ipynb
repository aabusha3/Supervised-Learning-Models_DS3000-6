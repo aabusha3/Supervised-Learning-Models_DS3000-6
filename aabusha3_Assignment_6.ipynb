{
 "cells": [
  {
   "cell_type": "markdown",
   "metadata": {
    "id": "fykhFKa3Ulnh"
   },
   "source": [
    "# Assignment 6 \n"
   ]
  },
  {
   "cell_type": "markdown",
   "metadata": {
    "id": "370AKC5oUxsB"
   },
   "source": [
    "This notebook contains the questions for Assignment 6. \n",
    "\n",
    "Please note, a random seed has been set to ensure the reproducibility of the results -- *DO NOT* change this random seed. **If you call additional functions that are based on random number generators, you will need to define their seed to 42 as well**. \n",
    "\n",
    "Make sure to complete this assignment individually and appropriately reference all external code and documentation used. ***In order for your submission to be valid, you must adhere to the function definitions which have been made (failure to do so will result in a grade of 0). You must upload this completed Jupyter Notebook file as your submission (other file types are not permitted and will result in a grade of 0).*** You are responsible for selecting and importing additional packages."
   ]
  },
  {
   "cell_type": "code",
   "execution_count": 1,
   "metadata": {
    "id": "45VAP00lUkc5"
   },
   "outputs": [],
   "source": [
    "import numpy as np\n",
    "np.random.seed(42)"
   ]
  },
  {
   "cell_type": "code",
   "execution_count": 2,
   "metadata": {
    "id": "e9fI_lLV3MhP"
   },
   "outputs": [],
   "source": [
    "import os\n",
    "import matplotlib.pyplot as plt\n",
    "import pandas as pd\n",
    "from sklearn.model_selection import train_test_split, GridSearchCV\n",
    "from sklearn.pipeline import Pipeline\n",
    "from sklearn.ensemble import RandomForestClassifier,BaggingClassifier\n",
    "from sklearn.tree import DecisionTreeClassifier\n",
    "from sklearn.decomposition import PCA\n",
    "from sklearn.preprocessing import StandardScaler\n",
    "from sklearn.metrics import classification_report, accuracy_score, f1_score, recall_score, precision_score, confusion_matrix\n",
    "import time"
   ]
  },
  {
   "cell_type": "markdown",
   "metadata": {
    "id": "3YmD_jy2VkV5"
   },
   "source": [
    "## Dataset Description\n",
    "\n",
    "Attached with the assignment instructions, you will find the datasets.zip file. After unzipping the file, you will find two .csv files, where each file represents real-world measurement data of a heat experiment inside a steel furnace. \"normal.csv\" has all the normal experimental samples, while \"anomalous.csv\" has all the abnormal experimental samples.\n",
    "\n",
    "In the datasets, the features are the vibration measurements in columns A, B, ... , H, which correspond to (X1, X2, ... , X8) measurement signals. Each feature represents a vibration signal inside the furnace at several frequency bands. Each example is a measurement recorded at a time instance (Timestamp), which are considered time-series data measurements."
   ]
  },
  {
   "cell_type": "markdown",
   "metadata": {
    "id": "UD1u-9MwVY5k"
   },
   "source": [
    "## Question 1 - Data Preparations [10 Marks]\n",
    "\n",
    "A) Read \"normal.csv\" as a pandas dataframe \"normalData\", and print out the shape of the normal dataset.\n",
    "\n",
    "B) Read \"anomalous.csv\" as a pandas dataframe \"anomalousData\", and print out the shape of the nomalous dataset.\n"
   ]
  },
  {
   "cell_type": "code",
   "execution_count": 3,
   "metadata": {
    "id": "VYa70oGzXmbl"
   },
   "outputs": [
    {
     "name": "stdout",
     "output_type": "stream",
     "text": [
      "normalData's shape: (76593, 10)\n"
     ]
    }
   ],
   "source": [
    "### Q1A) - 5pts\n",
    "normalData = pd.read_csv('normal.csv')\n",
    "print(\"normalData's shape:\", normalData.shape)"
   ]
  },
  {
   "cell_type": "code",
   "execution_count": 4,
   "metadata": {
    "id": "T2EbZ-FwYIGl"
   },
   "outputs": [
    {
     "name": "stdout",
     "output_type": "stream",
     "text": [
      "anomalousData's shape: (2599, 10)\n"
     ]
    }
   ],
   "source": [
    "### Q1B) - 5pts\n",
    "anomalousData = pd.read_csv('anomalous.csv')\n",
    "print(\"anomalousData's shape:\", anomalousData.shape)"
   ]
  },
  {
   "cell_type": "markdown",
   "metadata": {
    "id": "A2LBEIAJYQV1"
   },
   "source": [
    "## Question 2 - Supervised Learning Algorithms [50 Marks]\n",
    "\n",
    "A) Complete the myTrainTestSplit function, which takes as input **two dataframes** consisting of the normal and anomalous datasets, reserves 30 percent of each dataframe for testing and **returns 4 variables, Xtrain, Xtest, ytrain, and ytest**. \n",
    "\n",
    "*Note: you can use `concat` from pandas library to concatenade trainig sets from two dataframes, and test sets from two dataframes.*\n",
    "\n",
    "\n",
    "B) Apply a Decision Tree model for classifying the events as normal or anomalous. Fill in the myDecisionTree function, which accepts as input the training set and returns a fully trained model. \n",
    "\n",
    "C) Apply a Bagging model that consists of 10 base decision trees for classifying the events as normal or anomalous. Fill in the myBagging function, which accepts as input the training set and returns a fully trained model. \n",
    "\n",
    "D) Apply a Random Forest model that consists of 10 base decision trees for classifying the events as normal or anomalous. Fill in the myRandomForest function, which accepts as input the training set and returns a fully trained model. \n",
    "\n",
    "E) Based on the trained Random Forest model from 2D, use a horizontal bar plot to plot the feature importance scores of all features (Timestamp, X1-X8).\n",
    "\n",
    "F) Fill in the myEvaluateSupervisedModelPerformance function, which takes as input the training and test sets. Please note, you will need to call your functions from 2B, 2C, and 2D within this function to train your models. \n",
    "- Calculate the training time for comparing models. \n",
    "- Evaluate the performance of your models using 3 metrics of `Recall`, `Preceision` and `f1 score`. Return three numpy arrays consisting of the three metrics calculated for each model on the test set and print them out. \n",
    "- Also, print out the confusion matrix of your three models on the test set. \n",
    "\n",
    "G) **Written Answer** - Use the markdown cell to answer the following:\n",
    "- Justify the choice of three metrics for the evaluation of the model's performance.\n",
    "- Compare the performance and training time of the Decision Tree and Bagging models and discuss the reasons for the performance difference.\n",
    "- Compare the performance and training time of the Bagging and Random Forest models and discuss the reasons for the performance difference."
   ]
  },
  {
   "cell_type": "code",
   "execution_count": 5,
   "metadata": {
    "id": "7kC7gNWGQbC1"
   },
   "outputs": [],
   "source": [
    "### Q2A) - 5pts \n",
    "cols = ['Timestamp','X1','X2','X3','X4','X5','X6','X7','X8']\n",
    "def myTrainTestSplit(normal, anomalous):\n",
    "    nor_Xtrain, nor_Xtest, nor_ytrain, nor_ytest = train_test_split(normal[cols],normal.Anomaly_Tag,test_size=.3,random_state=42)\n",
    "    ano_Xtrain, ano_Xtest, ano_ytrain, ano_ytest = train_test_split(anomalous[cols],anomalous.Anomaly_Tag,test_size=.3,random_state=42)\n",
    "    Xtrain = pd.concat([nor_Xtrain, ano_Xtrain])\n",
    "    Xtest = pd.concat([nor_Xtest, ano_Xtest])\n",
    "    ytrain = pd.concat([nor_ytrain, ano_ytrain])\n",
    "    ytest = pd.concat([nor_ytest, ano_ytest])\n",
    "    return(Xtrain, Xtest, ytrain, ytest)\n",
    "\n",
    "Xtrain, Xtest, ytrain, ytest = myTrainTestSplit(normalData, anomalousData)"
   ]
  },
  {
   "cell_type": "code",
   "execution_count": 6,
   "metadata": {},
   "outputs": [],
   "source": [
    "### Q2B) - 5pts\n",
    "def myDecisionTree(Xtrain, ytrain):\n",
    "    model = DecisionTreeClassifier(random_state = 42)\n",
    "    model.fit(Xtrain,ytrain)\n",
    "    return model"
   ]
  },
  {
   "cell_type": "code",
   "execution_count": 7,
   "metadata": {},
   "outputs": [],
   "source": [
    "### Q2C) - 5pts\n",
    "def myBagging(Xtrain, ytrain):\n",
    "    model = BaggingClassifier(DecisionTreeClassifier(random_state=42), n_estimators=10, random_state=42)\n",
    "    model.fit(Xtrain, ytrain)\n",
    "    return model"
   ]
  },
  {
   "cell_type": "code",
   "execution_count": 8,
   "metadata": {
    "id": "Rdw3xDzGZdAb"
   },
   "outputs": [],
   "source": [
    "### Q2D) - 5pts\n",
    "def myRandomForest(Xtrain, ytrain):\n",
    "    model = RandomForestClassifier(n_estimators = 10, random_state = 42)\n",
    "    model.fit(Xtrain, ytrain)\n",
    "    return model"
   ]
  },
  {
   "cell_type": "code",
   "execution_count": 9,
   "metadata": {},
   "outputs": [
    {
     "data": {
      "image/png": "[encoded data removed]",
      "text/plain": [
       "<Figure size 640x480 with 1 Axes>"
      ]
     },
     "metadata": {},
     "output_type": "display_data"
    }
   ],
   "source": [
    "### Q2E) - 10pts\n",
    "rf = myRandomForest(Xtrain, ytrain)\n",
    "plt.barh(cols,rf.feature_importances_)\n",
    "plt.title(\"Feature Importance Scores\")\n",
    "plt.xlabel(\"Feature Importance\")\n",
    "plt.ylabel(\"Features\")\n",
    "plt.show()"
   ]
  },
  {
   "cell_type": "code",
   "execution_count": 13,
   "metadata": {
    "scrolled": false
   },
   "outputs": [
    {
     "name": "stdout",
     "output_type": "stream",
     "text": [
      "myDecisionTree :\n",
      "\tTime: 0.5973191261291504 s\n",
      "\tRecall Score: 91.41025641025641 %\n",
      "\tPrecision Score: 89.91172761664565 %\n",
      "\tF1 Score: 90.65479974570884 %\n",
      "Confusion Matrix:\n",
      " [[22898    80]\n",
      " [   67   713]] \n",
      "\n",
      "myBagging :\n",
      "\tTime: 4.309214115142822 s\n",
      "\tRecall Score: 92.17948717948717 %\n",
      "\tPrecision Score: 98.09004092769442 %\n",
      "\tF1 Score: 95.04296100462656 %\n",
      "Confusion Matrix:\n",
      " [[22964    14]\n",
      " [   61   719]] \n",
      "\n",
      "myRandomForest :\n",
      "\tTime: 1.8763890266418457 s\n",
      "\tRecall Score: 88.2051282051282 %\n",
      "\tPrecision Score: 99.27849927849928 %\n",
      "\tF1 Score: 93.41479972844536 %\n",
      "Confusion Matrix:\n",
      " [[22973     5]\n",
      " [   92   688]] \n",
      "\n"
     ]
    }
   ],
   "source": [
    "### Q2F) - 10pts\n",
    "def myEvaluateSupervisedModelPerformance(Xtrain, Xtest, ytrain, ytest):\n",
    "    modelScores = []\n",
    "    for modelType in (myDecisionTree, myBagging, myRandomForest):\n",
    "        start = time.time()\n",
    "        model = modelType(Xtrain,ytrain)\n",
    "        end = time.time()\n",
    "        ypred = model.predict(Xtest)\n",
    "        recall = recall_score(ytest, ypred)\n",
    "        precision = precision_score(ytest, ypred)\n",
    "        f1 = f1_score(ytest, ypred)\n",
    "        confusionMatrix = confusion_matrix(ytest, ypred)\n",
    "        # print('Confusion Matrix of', modelType.__name__,'(Xtrain,ytrain) is', confusionMatrix)\n",
    "        modelScores.append(np.array([modelType.__name__,(end-start),recall,precision,f1,confusionMatrix],dtype=object))\n",
    "    return modelScores\n",
    "\n",
    "modelsEval = myEvaluateSupervisedModelPerformance(Xtrain, Xtest, ytrain, ytest)\n",
    "\n",
    "for data in modelsEval:\n",
    "    print(data[0],':\\n\\tTime:',data[1],'s\\n\\tRecall Score:',data[2]*100,'%\\n\\tPrecision Score:',data[3]*100,'%\\n\\tF1 Score:',data[4]*100,'%\\nConfusion Matrix:\\n',data[5],'\\n')"
   ]
  },
  {
   "cell_type": "markdown",
   "metadata": {},
   "source": [
    "#### Q2G) - 10 pts\n",
    "\n",
    "**Witten Answer: Precision score measures the relevant data points, Recall score measures how accurately the model is able to identify relevant data, F1 score indicates that the model is good at identifying both positive and negative cases.**\n",
    "\n",
    "**The Decision Tree is faster than the Bagging model but all the score values are lower.**\n",
    "\n",
    "**The Random Forest is faster and has a slightly higher precision score than the Bagging model but the recall and f1 score values are lower.**"
   ]
  },
  {
   "cell_type": "markdown",
   "metadata": {},
   "source": [
    "## Question 3 - Dimensionality Reduction [40 Marks]\n",
    "\n",
    "A) Build the pipeline that uses a Principal Component Analysis (PCA) model to extract 2 principal components of the training set and create a a Random Forest model that consists of 50 base decision trees (same as the model in 2D).  Fill in the myPCARF function, which accepts as input the training set and returns a fully trained model. \n",
    "\n",
    "B) Fill in the myEvaluateUnsupervisedModelPerformance function, which takes as input the training and test sets. Please note, you will need to call your functions from 3A within this function to train your models. \n",
    "- Calculate the training time for comparing models. \n",
    "- Evaluate the performance of your model on the test set using the 3 same metrics from 2F. Return three numpy arrays consisting of the three metrics calculated for the model and print them out. \n",
    "- Also, print out the confusion matrix of your model on the test set. \n",
    "\n",
    "*Note: This function can be the same as the function from 2F, but remember to change the model name.*\n",
    "\n",
    "C) **Written Answer** - Use the markdown cell to answer the following:\n",
    "- Compare the performance and training time of PCA + Random Forest model from 3A and the Random Forest model from 2D, and discuss the reasons for the performance difference."
   ]
  },
  {
   "cell_type": "code",
   "execution_count": 16,
   "metadata": {},
   "outputs": [],
   "source": [
    "### Q3A) - 10pts\n",
    "def myPCARF(Xtrain, ytrain):\n",
    "    pipe = Pipeline([('pca', PCA()),\n",
    "                    ('rf', RandomForestClassifier())])\n",
    "    params = {'pca__n_components': [2],\n",
    "              'rf__n_estimators': [10],\n",
    "              'rf__random_state': [42]}\n",
    "    model = GridSearchCV(pipe, params)\n",
    "    model.fit(Xtrain, ytrain)\n",
    "    return model"
   ]
  },
  {
   "cell_type": "code",
   "execution_count": 17,
   "metadata": {
    "colab": {
     "base_uri": "https://localhost:8080/"
    },
    "id": "ldPs5xBRa7Q5",
    "outputId": "223857e9-24a7-4889-b543-1300726f575f"
   },
   "outputs": [
    {
     "name": "stdout",
     "output_type": "stream",
     "text": [
      "myPCARF :\n",
      "\tTime: 4.742799282073975 s\n",
      "\tRecall Score: 39.871794871794876 %\n",
      "\tPrecision Score: 67.75599128540306 %\n",
      "\tF1 Score: 50.20177562550444 %\n",
      "Confusion Matrix:\n",
      " [[22830   148]\n",
      " [  469   311]] \n",
      "\n"
     ]
    }
   ],
   "source": [
    "### Q3B) - 5pts\n",
    "def myEvaluateUnsupervisedModelPerformance(Xtrain, Xtest, ytrain, ytest):    \n",
    "    start = time.time()\n",
    "    model = myPCARF(Xtrain,ytrain)\n",
    "    end = time.time()\n",
    "    ypred = model.predict(Xtest)\n",
    "    recall = recall_score(ytest, ypred)\n",
    "    precision = precision_score(ytest, ypred)\n",
    "    f1 = f1_score(ytest, ypred)\n",
    "    confusionMatrix = confusion_matrix(ytest, ypred)\n",
    "    # print('Confusion Matrix of myPCARF(Xtrain,ytrain) is', confusionMatrix)\n",
    "    modelScore = np.array(['myPCARF',(end-start),recall,precision,f1,confusionMatrix],dtype=object)\n",
    "    return modelScore\n",
    "\n",
    "data = myEvaluateUnsupervisedModelPerformance(Xtrain, Xtest, ytrain, ytest)\n",
    "\n",
    "print(data[0],':\\n\\tTime:',data[1],'s\\n\\tRecall Score:',data[2]*100,'%\\n\\tPrecision Score:',data[3]*100,'%\\n\\tF1 Score:',data[4]*100,'%\\nConfusion Matrix:\\n',data[5],'\\n')"
   ]
  },
  {
   "cell_type": "markdown",
   "metadata": {
    "id": "ttLtyLi1b0IE"
   },
   "source": [
    "#### Q3C) - 10 pts\n",
    "\n",
    "**Written Answer: myRandomForest is faster and much more accurate than myPCARF.**\n",
    "\n",
    "**Random Forest model is iterating over possible splits that optimize for the criterion but PCA reduces the number of splits by summurazing data, thus the optimal splits are lost in the PCA process**"
   ]
  }
 ],
 "metadata": {
  "colab": {
   "collapsed_sections": [
    "3YmD_jy2VkV5",
    "ttLtyLi1b0IE",
    "tLUT1nMwdYKw"
   ],
   "name": "ECE9309_9039_Assignment2_2022.ipynb",
   "provenance": []
  },
  "kernelspec": {
   "display_name": "Python 3 (ipykernel)",
   "language": "python",
   "name": "python3"
  },
  "language_info": {
   "codemirror_mode": {
    "name": "ipython",
    "version": 3
   },
   "file_extension": ".py",
   "mimetype": "text/x-python",
   "name": "python",
   "nbconvert_exporter": "python",
   "pygments_lexer": "ipython3",
   "version": "3.11.4"
  }
 },
 "nbformat": 4,
 "nbformat_minor": 1
}
